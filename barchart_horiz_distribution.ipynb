{
  "nbformat": 4,
  "nbformat_minor": 0,
  "metadata": {
    "colab": {
      "name": "barchart_horiz_distribution.ipynb",
      "provenance": [],
      "include_colab_link": true
    },
    "kernelspec": {
      "name": "python3",
      "display_name": "Python 3"
    }
  },
  "cells": [
    {
      "cell_type": "markdown",
      "metadata": {
        "id": "view-in-github",
        "colab_type": "text"
      },
      "source": [
        "<a href=\"https://colab.research.google.com/github/stemgene/Visualization/blob/master/barchart_horiz_distribution.ipynb\" target=\"_parent\"><img src=\"https://colab.research.google.com/assets/colab-badge.svg\" alt=\"Open In Colab\"/></a>"
      ]
    },
    {
      "cell_type": "markdown",
      "metadata": {
        "id": "QZQuGhe-fFzN",
        "colab_type": "text"
      },
      "source": [
        "#### Multiple rows:\n",
        "\n",
        "https://matplotlib.org/gallery/lines_bars_and_markers/horizontal_barchart_distribution.html#sphx-glr-gallery-lines-bars-and-markers-horizontal-barchart-distribution-py"
      ]
    },
    {
      "cell_type": "code",
      "metadata": {
        "id": "GsKFV1_wc_4K",
        "colab_type": "code",
        "colab": {
          "base_uri": "https://localhost:8080/",
          "height": 109
        },
        "outputId": "9017f5fd-42e2-40cf-97bb-92672584c7a2"
      },
      "source": [
        "import numpy as np\n",
        "import matplotlib.pyplot as plt\n",
        "\n",
        "\n",
        "category_names = ['New patient', 'Well-behaved patient',\n",
        "                  'Have no show history patient']\n",
        "results = {\n",
        "    'Whole data set': [61858, 28291, 14191]\n",
        "}\n",
        "\n",
        "\n",
        "def survey(results, category_names):\n",
        "    \"\"\"\n",
        "    Parameters\n",
        "    ----------\n",
        "    results : dict\n",
        "        A mapping from question labels to a list of answers per category.\n",
        "        It is assumed all lists contain the same number of entries and that\n",
        "        it matches the length of *category_names*.\n",
        "    category_names : list of str\n",
        "        The category labels.\n",
        "    \"\"\"\n",
        "    labels = list(results.keys())\n",
        "    data = np.array(list(results.values()))\n",
        "    data_cum = data.cumsum(axis=1) # total number\n",
        "    category_colors = plt.get_cmap('RdYlGn')(\n",
        "        np.linspace(0.15, 0.85, data.shape[1]))\n",
        "\n",
        "    fig, ax = plt.subplots(figsize=(9.2, 1)) # length=9.2, height=1\n",
        "    ax.invert_yaxis()\n",
        "    ax.xaxis.set_visible(False)\n",
        "    ax.set_xlim(0, np.sum(data, axis=1).max())\n",
        "\n",
        "    for i, (colname, color) in enumerate(zip(category_names, category_colors)):\n",
        "        widths = data[:, i]\n",
        "        starts = data_cum[:, i] - widths\n",
        "        ax.barh(labels, widths, left=starts, height=0.5,\n",
        "                label=colname, color=color)\n",
        "        xcenters = starts + widths / 2\n",
        "\n",
        "        r, g, b, _ = color\n",
        "        text_color = 'white' if r * g * b < 0.5 else 'darkgrey'\n",
        "        for y, (x, c) in enumerate(zip(xcenters, widths)):\n",
        "            ax.text(x, y, str(int(c)), ha='center', va='center',\n",
        "                    color=text_color)\n",
        "    ax.legend(ncol=len(category_names), bbox_to_anchor=(0, 1),\n",
        "              loc='lower left', fontsize='small')\n",
        "\n",
        "    return fig, ax\n",
        "\n",
        "\n",
        "survey(results, category_names)\n",
        "plt.show()"
      ],
      "execution_count": 4,
      "outputs": [
        {
          "output_type": "display_data",
          "data": {
            "image/png": "[encoded data removed]",
            "text/plain": [
              "<Figure size 662.4x72 with 1 Axes>"
            ]
          },
          "metadata": {
            "tags": []
          }
        }
      ]
    }
  ]
}